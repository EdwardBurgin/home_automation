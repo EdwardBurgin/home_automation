{
 "cells": [
  {
   "cell_type": "code",
   "execution_count": null,
   "metadata": {},
   "outputs": [],
   "source": [
    "#import the required modules\n",
    "import RPi.GPIO as GPIO\n",
    "GPIO.setwarnings(False)\n",
    "import time\n",
    "# set the pins numbering mode\n",
    "GPIO.setmode(GPIO.BOARD)\n",
    "# Select the GPIO pins used for the encoder K0-K3 data inputs\n",
    "GPIO.setup(11, GPIO.OUT)\n",
    "GPIO.setup(15, GPIO.OUT)\n",
    "GPIO.setup(16, GPIO.OUT)\n",
    "GPIO.setup(13, GPIO.OUT)\n",
    "# Select the signal used to select ASK/FSK\n",
    "GPIO.setup(18, GPIO.OUT)\n",
    "# Select the signal used to enable/disable the modulator\n",
    "GPIO.setup(22, GPIO.OUT)\n",
    "# Disable the modulator by setting CE pin lo\n",
    "GPIO.output (22, False)\n",
    "# Set the modulator to ASK for On Off Keying\n",
    "# by setting MODSEL pin lo\n",
    "GPIO.output (18, False)\n",
    "# Initialise K0-K3 inputs of the encoder to 0000\n",
    "GPIO.output (11, False)\n",
    "GPIO.output (15, False)\n",
    "GPIO.output (16, False)\n",
    "GPIO.output (13, False)\n",
    "\n",
    "\n",
    "import os \n",
    "import time\n",
    "import RPi.GPIO as GPIO\n",
    "\n",
    "GPIO.setmode(GPIO.BCM)\n",
    "GPIO.setup(21, GPIO.OUT)\n",
    "GPIO.output(21,1)\n",
    "\n",
    "os.system('modprobe w1-gpio')\n",
    "os.system('modprobe w1-therm')\n",
    "\n",
    "temp_loc = '/sys/bus/w1/devices/28-0213924576ef/'\n",
    "os.chdir(temp_loc)\n",
    "print(os.getcwd())\n",
    "temp_sensor = 'w1_slave'\n",
    "\n",
    "def temp_raw():\n",
    "    f=open(temp_sensor,'r')\n",
    "    lines = f.readlines()\n",
    "    f.close()\n",
    "    return lines\n",
    "\n",
    "def read_temp():\n",
    "    lines=temp_raw()\n",
    "    while lines[0].strip()[-3:]!='YES':\n",
    "        time.sleep(0.2)\n",
    "        lines = temp_raw()\n",
    "    temp_output = lines[1].find('t=')\n",
    "    if temp_output != -1:\n",
    "        temp_string = lines[1].strip()[temp_output+2:]\n",
    "        temp_c = float(temp_string)/1000.0\n",
    "        return temp_c\n",
    "\n",
    "\n"
   ]
  },
  {
   "cell_type": "code",
   "execution_count": null,
   "metadata": {},
   "outputs": [],
   "source": [
    "f = open(\"temp.txt\",\"w+\")\n",
    "f.close()"
   ]
  },
  {
   "cell_type": "code",
   "execution_count": null,
   "metadata": {},
   "outputs": [],
   "source": [
    "print 'entering loop'\n",
    "while True:\n",
    "    curr = read_temp()\n",
    "    f = open(\"temp.txt\",\"a+\")\n",
    "    f.write('%d\\n'%curr)\n",
    "    f.close()\n",
    "    if curr < 17:\n",
    "        print 'turning on radiator'\n",
    "        GPIO.output (11, True)\n",
    "        GPIO.output (15, True)\n",
    "        GPIO.output (16, True)\n",
    "        GPIO.output (13, True)\n",
    "        # let it settle, encoder requires this\n",
    "        time.sleep(0.1)\n",
    "        # Enable the modulator\n",
    "        GPIO.output (22, True)\n",
    "        # keep enabled for a period\n",
    "        time.sleep(0.25)\n",
    "        # Disable the modulator\n",
    "        GPIO.output (22, False)\n",
    "    time.sleep(20)"
   ]
  }
 ],
 "metadata": {
  "kernelspec": {
   "display_name": "Python 3",
   "language": "python",
   "name": "python3"
  },
  "language_info": {
   "codemirror_mode": {
    "name": "ipython",
    "version": 3
   },
   "file_extension": ".py",
   "mimetype": "text/x-python",
   "name": "python",
   "nbconvert_exporter": "python",
   "pygments_lexer": "ipython3",
   "version": "3.6.6"
  },
  "varInspector": {
   "cols": {
    "lenName": 16,
    "lenType": 16,
    "lenVar": 40
   },
   "kernels_config": {
    "python": {
     "delete_cmd_postfix": "",
     "delete_cmd_prefix": "del ",
     "library": "var_list.py",
     "varRefreshCmd": "print(var_dic_list())"
    },
    "r": {
     "delete_cmd_postfix": ") ",
     "delete_cmd_prefix": "rm(",
     "library": "var_list.r",
     "varRefreshCmd": "cat(var_dic_list()) "
    }
   },
   "types_to_exclude": [
    "module",
    "function",
    "builtin_function_or_method",
    "instance",
    "_Feature"
   ],
   "window_display": false
  }
 },
 "nbformat": 4,
 "nbformat_minor": 2
}
