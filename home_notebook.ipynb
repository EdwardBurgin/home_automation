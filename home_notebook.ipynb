{
 "cells": [
  {
   "cell_type": "code",
   "execution_count": 22,
   "metadata": {},
   "outputs": [],
   "source": [
    "import RPi.GPIO as GPIO\n",
    "import time\n",
    "import os\n",
    "import datetime\n",
    "import numpy as np\n",
    "# GPIO.setwarnings(False)"
   ]
  },
  {
   "cell_type": "code",
   "execution_count": 29,
   "metadata": {},
   "outputs": [],
   "source": [
    "# !sudo dtoverlay w1-gpio gpiopin=6 pullup=0 # header pin 7"
   ]
  },
  {
   "cell_type": "code",
   "execution_count": 36,
   "metadata": {},
   "outputs": [],
   "source": [
    "def wireless_ini():\n",
    "    GPIO.cleanup()\n",
    "    # set the pins numbering mode\n",
    "    GPIO.setmode(GPIO.BOARD)\n",
    "    # Select the GPIO pins used for the encoder K0-K3 data inputs\n",
    "    GPIO.setup(11, GPIO.OUT)\n",
    "    GPIO.setup(15, GPIO.OUT)\n",
    "    GPIO.setup(16, GPIO.OUT)\n",
    "    GPIO.setup(13, GPIO.OUT)\n",
    "    # Select the signal used to select ASK/FSK\n",
    "    GPIO.setup(18, GPIO.OUT)\n",
    "    # Select the signal used to enable/disable the modulator\n",
    "    GPIO.setup(22, GPIO.OUT)\n",
    "    # Disable the modulator by setting CE pin lo\n",
    "    GPIO.output (22, False)\n",
    "    # Set the modulator to ASK for On Off Keying\n",
    "    # by setting MODSEL pin lo\n",
    "    GPIO.output (18, False)\n",
    "    # Initialise K0-K3 inputs of the encoder to 0000\n",
    "    GPIO.output (11, False)\n",
    "    GPIO.output (15, False)\n",
    "    GPIO.output (16, False)\n",
    "    GPIO.output (13, False)\n",
    "    \n",
    "def wireless_one():\n",
    "    print('turning on radiator')\n",
    "    GPIO.output (11, True)\n",
    "    GPIO.output (15, True)\n",
    "    GPIO.output (16, True)\n",
    "    GPIO.output (13, True)\n",
    "    # let it settle, encoder requires this\n",
    "    time.sleep(0.1)\n",
    "    # Enable the modulator\n",
    "    GPIO.output (22, True)\n",
    "    # keep enabled for a period\n",
    "    time.sleep(0.25)\n",
    "    # Disable the modulator\n",
    "    GPIO.output (22, False)\n",
    "    GPIO.cleanup()"
   ]
  },
  {
   "cell_type": "code",
   "execution_count": 39,
   "metadata": {},
   "outputs": [],
   "source": [
    "def wireless_one_off():\n",
    "    print (\"sending code 0111 Socket 1 off\")\n",
    "    GPIO.output (11, True)\n",
    "    GPIO.output (15, True)\n",
    "    GPIO.output (16, True)\n",
    "    GPIO.output (13, False)\n",
    "    # let it settle, encoder requires this\n",
    "    time.sleep(0.1)\n",
    "    # Enable the modulator\n",
    "    GPIO.output (22, True)\n",
    "    # keep enabled for a period\n",
    "    time.sleep(0.25)\n",
    "    # Disable the modulator\n",
    "    GPIO.output (22, False)\n",
    "    GPIO.cleanup()"
   ]
  },
  {
   "cell_type": "code",
   "execution_count": 41,
   "metadata": {},
   "outputs": [
    {
     "name": "stderr",
     "output_type": "stream",
     "text": [
      "/usr/local/lib/python3.5/dist-packages/ipykernel_launcher.py:2: RuntimeWarning: No channels have been set up yet - nothing to clean up!  Try cleaning up at the end of your program instead!\n",
      "  \n"
     ]
    },
    {
     "name": "stdout",
     "output_type": "stream",
     "text": [
      "turning on radiator\n"
     ]
    }
   ],
   "source": [
    "wireless_ini()\n",
    "wireless_one()\n"
   ]
  },
  {
   "cell_type": "code",
   "execution_count": 42,
   "metadata": {},
   "outputs": [
    {
     "name": "stderr",
     "output_type": "stream",
     "text": [
      "/usr/local/lib/python3.5/dist-packages/ipykernel_launcher.py:2: RuntimeWarning: No channels have been set up yet - nothing to clean up!  Try cleaning up at the end of your program instead!\n",
      "  \n"
     ]
    },
    {
     "name": "stdout",
     "output_type": "stream",
     "text": [
      "sending code 0111 Socket 1 off\n"
     ]
    }
   ],
   "source": [
    "wireless_ini()\n",
    "wireless_one_off()"
   ]
  },
  {
   "cell_type": "code",
   "execution_count": 49,
   "metadata": {},
   "outputs": [],
   "source": [
    "def temp_ini():\n",
    "    GPIO.cleanup()\n",
    "    GPIO.setmode(GPIO.BCM)\n",
    "    GPIO.setup(21, GPIO.OUT)\n",
    "    GPIO.output(21,1)\n",
    "\n",
    "    os.system('modprobe w1-gpio')\n",
    "    os.system('modprobe w1-therm')\n",
    "\n",
    "    temp_loc = '/sys/bus/w1/devices/'\n",
    "#     os.chdir(temp_loc)\n",
    "#     print(os.listdir())\n",
    "    device = '28-0213924576ef/'\n",
    "    os.chdir(temp_loc+device)\n",
    "#     print(os.getcwd())\n",
    "    \n",
    "temp_ini()    "
   ]
  },
  {
   "cell_type": "code",
   "execution_count": 50,
   "metadata": {},
   "outputs": [],
   "source": [
    "def temp_raw():\n",
    "    temp_sensor = 'w1_slave'\n",
    "    f=open(temp_sensor,'r')\n",
    "    lines = f.readlines()\n",
    "    f.close()\n",
    "    return lines\n",
    "\n",
    "def read_temp():\n",
    "    temp_ini()\n",
    "    lines=temp_raw()\n",
    "    while lines[0].strip()[-3:]!='YES':\n",
    "        time.sleep(0.2)\n",
    "        lines = temp_raw()\n",
    "    temp_output = lines[1].find('t=')\n",
    "    if temp_output != -1:\n",
    "        temp_string = lines[1].strip()[temp_output+2:]\n",
    "        temp_c = float(temp_string)/1000.0\n",
    "        return temp_c\n",
    "    "
   ]
  },
  {
   "cell_type": "code",
   "execution_count": 52,
   "metadata": {},
   "outputs": [
    {
     "data": {
      "text/plain": [
       "20.625"
      ]
     },
     "execution_count": 52,
     "metadata": {},
     "output_type": "execute_result"
    }
   ],
   "source": [
    "# temp_ini()\n",
    "read_temp()"
   ]
  },
  {
   "cell_type": "code",
   "execution_count": null,
   "metadata": {},
   "outputs": [
    {
     "name": "stdout",
     "output_type": "stream",
     "text": [
      "entering loop\n",
      "20.625\n",
      "turning on radiator\n"
     ]
    },
    {
     "name": "stderr",
     "output_type": "stream",
     "text": [
      "/usr/local/lib/python3.5/dist-packages/ipykernel_launcher.py:2: RuntimeWarning: No channels have been set up yet - nothing to clean up!  Try cleaning up at the end of your program instead!\n",
      "  \n"
     ]
    },
    {
     "name": "stdout",
     "output_type": "stream",
     "text": [
      "20.437\n",
      "20.5\n",
      "20.875\n",
      "sending code 0111 Socket 1 off\n",
      "21.5\n",
      "21.187\n",
      "20.812\n",
      "20.75\n",
      "20.812\n",
      "20.562\n",
      "turning on radiator\n",
      "20.625\n",
      "20.625\n",
      "20.375\n",
      "20.5\n",
      "20.5\n",
      "20.437\n"
     ]
    }
   ],
   "source": [
    "temps = []\n",
    "trigger_block = False\n",
    "block_time = datetime.datetime.now().time() #ini\n",
    "t = datetime.datetime.now().time()\n",
    "print('entering loop')\n",
    "while t.hour<9:\n",
    "    curr = read_temp()\n",
    "    print(curr)\n",
    "    temps = temps + [curr]\n",
    "    t = datetime.datetime.now().time()\n",
    "    if (curr <= 20.625)  & (t.hour < 9) & (trigger_block == False):\n",
    "        trigger_block = True  \n",
    "        wireless_ini()\n",
    "        wireless_one()\n",
    "    elif (curr>20.725)& (trigger_block == True):\n",
    "        wireless_ini()\n",
    "        wireless_one_off()\n",
    "        trigger_block = False\n",
    "    \n",
    "    time.sleep(10)"
   ]
  },
  {
   "cell_type": "code",
   "execution_count": 20,
   "metadata": {},
   "outputs": [],
   "source": []
  },
  {
   "cell_type": "code",
   "execution_count": 21,
   "metadata": {},
   "outputs": [
    {
     "data": {
      "text/plain": [
       "1"
      ]
     },
     "execution_count": 21,
     "metadata": {},
     "output_type": "execute_result"
    }
   ],
   "source": [
    "t.hour"
   ]
  },
  {
   "cell_type": "code",
   "execution_count": 27,
   "metadata": {},
   "outputs": [],
   "source": [
    "temps = []"
   ]
  },
  {
   "cell_type": "code",
   "execution_count": 29,
   "metadata": {},
   "outputs": [],
   "source": [
    "temps = temps + [1]"
   ]
  },
  {
   "cell_type": "code",
   "execution_count": 30,
   "metadata": {},
   "outputs": [
    {
     "data": {
      "text/plain": [
       "[1]"
      ]
     },
     "execution_count": 30,
     "metadata": {},
     "output_type": "execute_result"
    }
   ],
   "source": [
    "temps"
   ]
  },
  {
   "cell_type": "code",
   "execution_count": null,
   "metadata": {},
   "outputs": [],
   "source": []
  }
 ],
 "metadata": {
  "kernelspec": {
   "display_name": "Python 3",
   "language": "python",
   "name": "python3"
  },
  "language_info": {
   "codemirror_mode": {
    "name": "ipython",
    "version": 3
   },
   "file_extension": ".py",
   "mimetype": "text/x-python",
   "name": "python",
   "nbconvert_exporter": "python",
   "pygments_lexer": "ipython3",
   "version": "3.5.3"
  },
  "varInspector": {
   "cols": {
    "lenName": 16,
    "lenType": 16,
    "lenVar": 40
   },
   "kernels_config": {
    "python": {
     "delete_cmd_postfix": "",
     "delete_cmd_prefix": "del ",
     "library": "var_list.py",
     "varRefreshCmd": "print(var_dic_list())"
    },
    "r": {
     "delete_cmd_postfix": ") ",
     "delete_cmd_prefix": "rm(",
     "library": "var_list.r",
     "varRefreshCmd": "cat(var_dic_list()) "
    }
   },
   "types_to_exclude": [
    "module",
    "function",
    "builtin_function_or_method",
    "instance",
    "_Feature"
   ],
   "window_display": false
  }
 },
 "nbformat": 4,
 "nbformat_minor": 2
}
