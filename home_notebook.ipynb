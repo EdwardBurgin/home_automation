{
 "cells": [
  {
   "cell_type": "code",
   "execution_count": 7,
   "metadata": {},
   "outputs": [],
   "source": [
    "from IPython.display import HTML\n",
    "from ipywidgets import widgets\n",
    "from ipywidgets import interact, interactive, fixed, interact_manual\n",
    "from IPython.display import display, Image\n",
    "\n",
    "# import matplotlib\n",
    "# matplotlib.use('Agg')\n",
    "import matplotlib.pyplot as plt\n",
    "import collections\n",
    "import datetime\n",
    "import numpy as np\n",
    "import pickle\n",
    "import util\n",
    "from multiprocessing import Process\n",
    "import sys\n",
    "import RPi.GPIO as GPIO\n",
    "GPIO.setwarnings(False)\n",
    "\n",
    "from util import *\n",
    "\n",
    "proc = None"
   ]
  },
  {
   "cell_type": "code",
   "execution_count": 3,
   "metadata": {},
   "outputs": [
    {
     "data": {
      "text/html": [
       "<script>\n",
       "code_show=true; \n",
       "function code_toggle() {\n",
       " if (code_show){\n",
       " $('div.input').hide();\n",
       " } else {\n",
       " $('div.input').show();\n",
       " }\n",
       " code_show = !code_show\n",
       "} \n",
       "$( document ).ready(code_toggle);\n",
       "</script>\n",
       "The raw code for this IPython notebook is by default hidden for easier reading.\n",
       "To toggle on/off the raw code, click <a href=\"javascript:code_toggle()\">here</a>."
      ],
      "text/plain": [
       "<IPython.core.display.HTML object>"
      ]
     },
     "execution_count": 3,
     "metadata": {},
     "output_type": "execute_result"
    }
   ],
   "source": [
    "HTML('''<script>\n",
    "code_show=true; \n",
    "function code_toggle() {\n",
    " if (code_show){\n",
    " $('div.input').hide();\n",
    " } else {\n",
    " $('div.input').show();\n",
    " }\n",
    " code_show = !code_show\n",
    "} \n",
    "$( document ).ready(code_toggle);\n",
    "</script>\n",
    "The raw code for this IPython notebook is by default hidden for easier reading.\n",
    "To toggle on/off the raw code, click <a href=\"javascript:code_toggle()\">here</a>.''')"
   ]
  },
  {
   "cell_type": "code",
   "execution_count": 10,
   "metadata": {},
   "outputs": [],
   "source": [
    "temp_ini()\n",
    "wireless_ini()\n",
    "temps = collections.deque(maxlen=24,)\n",
    "message_log = collections.deque(maxlen=24)\n",
    "\n",
    "def radiator_controller(temp_lower, time_finish, interval_load):\n",
    "    while True:\n",
    "        file_log = open('log.txt','w')\n",
    "        t = datetime.datetime.now().time()\n",
    "        curr = read_temp()\n",
    "        temps.append((t, curr))\n",
    "        if (curr <= temp_lower) & (t.hour < time_finish):\n",
    "            message = '%d:%d:%d Temp: %.3f, turning on the radiator'%(t.hour, t.minute,t.second, curr)\n",
    "            message_log.appendleft(message)\n",
    "            wireless_one()\n",
    "#             print('trigger ', curr, time_finish, t.hour)\n",
    "            sys.stdout.write(\"%s  \\r\" % (message) )\n",
    "            sys.stdout.flush()\n",
    "\n",
    "        elif (curr > (temp_lower+0.5)) or (t.hour > time_finish):\n",
    "            message = '%d:%d:%d Temp: %.3f, turning OFF radiator'%(t.hour, t.minute, t.second,curr)\n",
    "            message_log.appendleft(message)\n",
    "            wireless_one_off()\n",
    "#             print('OFF ', curr, time_finish, t.hour)\n",
    "            sys.stdout.write(\"%s  \\r\" % (message) )\n",
    "            sys.stdout.flush()\n",
    "\n",
    "        else:\n",
    "            message = '%d:%d:%d Temp:%.3f '%(t.hour, t.minute,t.second, curr)\n",
    "            message_log.appendleft(message)\n",
    "            sys.stdout.write(\"%s  \\r\" % (message) )\n",
    "            sys.stdout.flush()\n",
    "\n",
    "        file_log = open('log.txt','w')\n",
    "        file_log.write(\"\\n <br />\".join(message_log))\n",
    "        file_log.close()\n",
    "        plt.plot([i[1] for i in temps])\n",
    "        plt.savefig('graph.png')\n",
    "        plt.close()\n",
    "        plt.show()\n",
    "        \n",
    "        time.sleep(interval_load)"
   ]
  },
  {
   "cell_type": "code",
   "execution_count": 58,
   "metadata": {
    "scrolled": true
   },
   "outputs": [
    {
     "data": {
      "application/vnd.jupyter.widget-view+json": {
       "model_id": "887bcb8ff6214b3db2a8c92b66deb1da",
       "version_major": 2,
       "version_minor": 0
      },
      "text/plain": [
       "interactive(children=(FloatSlider(value=16.0, description='temp', max=20.0, min=12.0, step=0.5), Output()), _d…"
      ]
     },
     "metadata": {},
     "output_type": "display_data"
    },
    {
     "data": {
      "application/vnd.jupyter.widget-view+json": {
       "model_id": "e74ef0d792f140af9397c67c1059dae5",
       "version_major": 2,
       "version_minor": 0
      },
      "text/plain": [
       "interactive(children=(FloatSlider(value=8.0, description='time', max=24.0, step=1.0), Output()), _dom_classes=…"
      ]
     },
     "metadata": {},
     "output_type": "display_data"
    },
    {
     "data": {
      "application/vnd.jupyter.widget-view+json": {
       "model_id": "c4be790c18944abea26208ce12b0846b",
       "version_major": 2,
       "version_minor": 0
      },
      "text/plain": [
       "interactive(children=(FloatSlider(value=600.0, description='interval', max=1200.0, min=5.0, step=1.0), Output(…"
      ]
     },
     "metadata": {},
     "output_type": "display_data"
    }
   ],
   "source": [
    "def time_return(time):\n",
    "    return time\n",
    "def temp_return(temp):\n",
    "    return temp\n",
    "def interval_return(interval):\n",
    "    return interval\n",
    "end_temp = interact(temp_return, temp=widgets.FloatSlider(min=12,max=20,step=0.5,value=16));\n",
    "end_time = interact(time_return, time=widgets.FloatSlider(min=0,max=24,step=1,value=8));\n",
    "end_interval = interact(interval_return, interval=widgets.FloatSlider(min=5,max=1200,step=1,value=600));"
   ]
  },
  {
   "cell_type": "code",
   "execution_count": 59,
   "metadata": {},
   "outputs": [
    {
     "name": "stdout",
     "output_type": "stream",
     "text": [
      "Maintaining temp:  16.5\n",
      "Will do this for hour less than: 8.0\n",
      "will check every: 600.0\n"
     ]
    }
   ],
   "source": [
    "temp = end_temp.widget.kwargs['temp']\n",
    "time_load = end_time.widget.kwargs['time']\n",
    "interval_load = end_interval.widget.kwargs['interval']\n",
    "print('Maintaining temp: ',temp)\n",
    "print('Will do this for hour less than:', time_load)\n",
    "print('will check every:', interval_load)"
   ]
  },
  {
   "cell_type": "code",
   "execution_count": 60,
   "metadata": {
    "scrolled": true
   },
   "outputs": [
    {
     "data": {
      "image/png": "[encoded data removed]",
      "text/plain": [
       "<IPython.core.display.Image object>"
      ]
     },
     "metadata": {},
     "output_type": "display_data"
    },
    {
     "name": "stdout",
     "output_type": "stream",
     "text": [
      "0:1:50 Temp: 18.062, turning OFF radiator  \r"
     ]
    }
   ],
   "source": [
    "display(Image(filename='blue-fire-md.png'))\n",
    "proc = Process(target=radiator_controller, args=(temp,time_load, interval_load))\n",
    "proc.start()"
   ]
  },
  {
   "cell_type": "code",
   "execution_count": 15,
   "metadata": {
    "scrolled": true
   },
   "outputs": [
    {
     "data": {
      "application/vnd.jupyter.widget-view+json": {
       "model_id": "edd039bea4044173b46ee10b1ac0308f",
       "version_major": 2,
       "version_minor": 0
      },
      "text/plain": [
       "Button(description='Turn Off Radiator', style=ButtonStyle())"
      ]
     },
     "metadata": {},
     "output_type": "display_data"
    },
    {
     "data": {
      "application/vnd.jupyter.widget-view+json": {
       "model_id": "ed2558308fdc42f287b7414b305e13d8",
       "version_major": 2,
       "version_minor": 0
      },
      "text/plain": [
       "Button(description='Turn On Radiator', style=ButtonStyle())"
      ]
     },
     "metadata": {},
     "output_type": "display_data"
    },
    {
     "data": {
      "application/vnd.jupyter.widget-view+json": {
       "model_id": "7bb3a17dee864a38aa85aca174bdbea6",
       "version_major": 2,
       "version_minor": 0
      },
      "text/plain": [
       "Button(description='controller OFF', style=ButtonStyle())"
      ]
     },
     "metadata": {},
     "output_type": "display_data"
    },
    {
     "name": "stdout",
     "output_type": "stream",
     "text": [
      "On Button Clicked, turning On heater\n",
      "Control Off Button Clicked, turning off heater control\n",
      "On Button Clicked, turning On heater\n",
      "On Button Clicked, turning On heater\n",
      "Off Button Clicked, turning off heater\n",
      "its killing time\n",
      "Control Off Button Clicked, turning off heater control\n",
      "Control Off Button Clicked, turning off heater control\n",
      "its killing time\n",
      "Control Off Button Clicked, turning off heater control\n",
      "Control Off Button Clicked, turning off heater control\n",
      "Control Off Button Clicked, turning off heater control\n",
      "Control Off Button Clicked, turning off heater control\n",
      "Control Off Button Clicked, turning off heater control\n",
      "its killing time\n",
      "Control Off Button Clicked, turning off heater control\n",
      "its killing time\n",
      "On Button Clicked, turning On heater\n"
     ]
    }
   ],
   "source": [
    "off_button = widgets.Button(description = 'Turn Off Radiator')\n",
    "display(off_button)\n",
    "def off_button_clicked(b):\n",
    "    print('Off Button Clicked, turning off heater')\n",
    "    util.wireless_one_off()\n",
    "    if proc is not None:\n",
    "        if proc.is_alive():\n",
    "            print('its killing time')\n",
    "            proc.terminate()\n",
    "\n",
    "off_button.on_click(off_button_clicked)\n",
    "##########################################################\n",
    "on_button = widgets.Button(description = 'Turn On Radiator')\n",
    "display(on_button)\n",
    "def on_button_clicked(b):\n",
    "\n",
    "    print('On Button Clicked, turning On heater')\n",
    "    util.wireless_one()\n",
    "\n",
    "on_button.on_click(on_button_clicked)\n",
    "\n",
    "##########################################################\n",
    "##########################################################\n",
    "\n",
    "##########################################################\n",
    "control_off_button = widgets.Button(description = 'controller OFF')\n",
    "display(control_off_button)\n",
    "def control_off_button_clicked(b):\n",
    "    print('Control Off Button Clicked, turning off heater control')\n",
    "    util.wireless_one_off()\n",
    "    if proc is not None:\n",
    "        if proc.is_alive():\n",
    "            print('its killing time')\n",
    "            proc.terminate()\n",
    "\n",
    "control_off_button.on_click(control_off_button_clicked)"
   ]
  },
  {
   "cell_type": "code",
   "execution_count": 23,
   "metadata": {
    "scrolled": true
   },
   "outputs": [
    {
     "data": {
      "image/png": "[encoded data removed]",
      "text/plain": [
       "<IPython.core.display.Image object>"
      ]
     },
     "metadata": {},
     "output_type": "display_data"
    }
   ],
   "source": [
    "try:\n",
    "    display(Image(filename='graph.png') )\n",
    "except:\n",
    "    print('try again')"
   ]
  },
  {
   "cell_type": "code",
   "execution_count": 47,
   "metadata": {},
   "outputs": [
    {
     "name": "stdout",
     "output_type": "stream",
     "text": [
      "23:19:33 Temp: 17.812, turning OFF radiator\n",
      "\n",
      " <br />23:9:30 Temp: 17.562, turning OFF radiator\n",
      "\n",
      " <br />22:59:28 Temp: 17.437, turning OFF radiator\n",
      "\n",
      " <br />22:49:25 Temp: 17.500, turning OFF radiator\n",
      "\n",
      " <br />22:39:22 Temp: 17.500, turning OFF radiator\n",
      "\n",
      " <br />22:29:20 Temp: 17.562, turning OFF radiator\n"
     ]
    }
   ],
   "source": [
    "f = open('log.txt','r')\n",
    "for i in f:\n",
    "    print(i)\n",
    "f.close()"
   ]
  },
  {
   "cell_type": "code",
   "execution_count": 48,
   "metadata": {},
   "outputs": [
    {
     "data": {
      "text/plain": [
       "True"
      ]
     },
     "execution_count": 48,
     "metadata": {},
     "output_type": "execute_result"
    }
   ],
   "source": [
    "proc.is_alive()"
   ]
  },
  {
   "cell_type": "code",
   "execution_count": 50,
   "metadata": {},
   "outputs": [
    {
     "data": {
      "text/plain": [
       "14862"
      ]
     },
     "execution_count": 50,
     "metadata": {},
     "output_type": "execute_result"
    }
   ],
   "source": [
    "proc.ident"
   ]
  },
  {
   "cell_type": "code",
   "execution_count": 51,
   "metadata": {},
   "outputs": [
    {
     "data": {
      "text/plain": [
       "14862"
      ]
     },
     "execution_count": 51,
     "metadata": {},
     "output_type": "execute_result"
    }
   ],
   "source": [
    "proc.pid"
   ]
  },
  {
   "cell_type": "code",
   "execution_count": 52,
   "metadata": {},
   "outputs": [],
   "source": [
    "proc.terminate()"
   ]
  },
  {
   "cell_type": "code",
   "execution_count": 10,
   "metadata": {},
   "outputs": [],
   "source": [
    "# proc.terminate()"
   ]
  },
  {
   "cell_type": "code",
   "execution_count": 3,
   "metadata": {
    "scrolled": true
   },
   "outputs": [],
   "source": [
    "# radiator_controller(temp_lower=15, time_finish=8)"
   ]
  },
  {
   "cell_type": "code",
   "execution_count": 87,
   "metadata": {},
   "outputs": [],
   "source": [
    "# def f(a, b):\n",
    "#     display(a + b)\n",
    "#     return a+b\n",
    "\n",
    "# global w\n",
    "# w = interactive(f, a=10, b=20)\n",
    "# display(w)"
   ]
  },
  {
   "cell_type": "code",
   "execution_count": 8,
   "metadata": {},
   "outputs": [],
   "source": [
    "# def printer():\n",
    "#     while True:\n",
    "#         print(w.kwargs.values())\n",
    "#         time.sleep(1)\n",
    "# # printer()"
   ]
  },
  {
   "cell_type": "code",
   "execution_count": 10,
   "metadata": {},
   "outputs": [],
   "source": [
    "# import threading\n",
    "# t = threading.Thread(target = printer)"
   ]
  },
  {
   "cell_type": "code",
   "execution_count": 7,
   "metadata": {},
   "outputs": [],
   "source": [
    "# def test_func():\n",
    "#     while True:\n",
    "# #         print(time.time())\n",
    "# #         print('%f \\r'%time.time(), end = '')\n",
    "#         sys.stdout.write(\"time: %f  \\r\" % (time.time()) )\n",
    "#         sys.stdout.flush()\n",
    "#         time.sleep(1)\n",
    "\n",
    "# # test_func()"
   ]
  },
  {
   "cell_type": "code",
   "execution_count": 23,
   "metadata": {},
   "outputs": [],
   "source": [
    "# def runner():\n",
    "#     proc = Process(target = test_func)\n",
    "#     proc.start()\n",
    "#     return proc\n",
    "# p = runner()"
   ]
  },
  {
   "cell_type": "code",
   "execution_count": 15,
   "metadata": {
    "scrolled": true
   },
   "outputs": [],
   "source": [
    "# # global proc\n",
    "# global proc_list\n",
    "# proc_list = []\n",
    "\n",
    "# on_button_control = widgets.Button(description = 'controller ON')\n",
    "# display(on_button_control)\n",
    "# def on_button_control_clicked(b):\n",
    "#     print('Control On Button Clicked, turning On heater Control')\n",
    "# #     proc = Process(target = radiator_controller(temp_lower=15, time_finish=8))\n",
    "#     proc = Process(target = test_func)\n",
    "#     proc_list.append(proc)\n",
    "# #     proc.start()\n",
    "#     print('process started')\n",
    "# #     return proc\n",
    "\n",
    "# on_button_control.on_click(on_button_control_clicked)\n",
    "\n",
    "\n",
    "\n"
   ]
  },
  {
   "cell_type": "code",
   "execution_count": 16,
   "metadata": {},
   "outputs": [],
   "source": [
    "# control_off = False\n",
    "# radiator_controller(temp_lower=15, time_finish=8)"
   ]
  },
  {
   "cell_type": "code",
   "execution_count": 6,
   "metadata": {},
   "outputs": [],
   "source": [
    "# temp_required = interact(x = 15)"
   ]
  },
  {
   "cell_type": "code",
   "execution_count": 17,
   "metadata": {},
   "outputs": [],
   "source": [
    "# import sys\n",
    "# print(sys.executable)\n",
    "# print(sys.version)"
   ]
  },
  {
   "cell_type": "code",
   "execution_count": 2,
   "metadata": {},
   "outputs": [],
   "source": [
    "# import base64"
   ]
  },
  {
   "cell_type": "code",
   "execution_count": 3,
   "metadata": {},
   "outputs": [],
   "source": [
    "# import collections\n",
    "# d = collections.deque(maxlen=10)"
   ]
  },
  {
   "cell_type": "code",
   "execution_count": 18,
   "metadata": {},
   "outputs": [],
   "source": [
    "# plt.plot([0,0,0,0])"
   ]
  },
  {
   "cell_type": "code",
   "execution_count": 19,
   "metadata": {},
   "outputs": [],
   "source": [
    "# import matplotlib.pyplot as plt \n",
    "# import os\n",
    "# os.getcwd()"
   ]
  },
  {
   "cell_type": "code",
   "execution_count": 23,
   "metadata": {},
   "outputs": [],
   "source": [
    "import RPi.GPIO as GPIO\n",
    "import time\n",
    "import os\n",
    "import datetime\n",
    "import numpy as np\n",
    "# import seaborn as sns\n",
    "import pickle\n",
    "# GPIO.setwarnings(False)"
   ]
  },
  {
   "cell_type": "code",
   "execution_count": 24,
   "metadata": {},
   "outputs": [],
   "source": [
    "# !pip install seaborn"
   ]
  },
  {
   "cell_type": "code",
   "execution_count": 25,
   "metadata": {},
   "outputs": [],
   "source": [
    "# !sudo dtoverlay w1-gpio gpiopin=6 pullup=0 # header pin 7"
   ]
  },
  {
   "cell_type": "code",
   "execution_count": 26,
   "metadata": {},
   "outputs": [],
   "source": [
    "def wireless_ini():\n",
    "#     GPIO.cleanup()\n",
    "    # set the pins numbering mode\n",
    "    GPIO.setmode(GPIO.BOARD)\n",
    "    # Select the GPIO pins used for the encoder K0-K3 data inputs\n",
    "    GPIO.setup(11, GPIO.OUT)\n",
    "    GPIO.setup(15, GPIO.OUT)\n",
    "    GPIO.setup(16, GPIO.OUT)\n",
    "    GPIO.setup(13, GPIO.OUT)\n",
    "    # Select the signal used to select ASK/FSK\n",
    "    GPIO.setup(18, GPIO.OUT)\n",
    "    # Select the signal used to enable/disable the modulator\n",
    "    GPIO.setup(22, GPIO.OUT)\n",
    "    # Disable the modulator by setting CE pin lo\n",
    "    GPIO.output (22, False)\n",
    "    # Set the modulator to ASK for On Off Keying\n",
    "    # by setting MODSEL pin lo\n",
    "    GPIO.output (18, False)\n",
    "    # Initialise K0-K3 inputs of the encoder to 0000\n",
    "    GPIO.output (11, False)\n",
    "    GPIO.output (15, False)\n",
    "    GPIO.output (16, False)\n",
    "    GPIO.output (13, False)\n",
    "    \n",
    "def wireless_one():\n",
    "    print('turning on radiator')\n",
    "    GPIO.output (11, True)\n",
    "    GPIO.output (15, True)\n",
    "    GPIO.output (16, True)\n",
    "    GPIO.output (13, True)\n",
    "    # let it settle, encoder requires this\n",
    "    time.sleep(0.1)\n",
    "    # Enable the modulator\n",
    "    GPIO.output (22, True)\n",
    "    # keep enabled for a period\n",
    "    time.sleep(0.25)\n",
    "    # Disable the modulator\n",
    "    GPIO.output (22, False)\n",
    "#     GPIO.cleanup()"
   ]
  },
  {
   "cell_type": "code",
   "execution_count": 27,
   "metadata": {},
   "outputs": [],
   "source": [
    "def wireless_one_off():\n",
    "    print (\"sending code 0111 Socket 1 off\")\n",
    "    GPIO.output (11, True)\n",
    "    GPIO.output (15, True)\n",
    "    GPIO.output (16, True)\n",
    "    GPIO.output (13, False)\n",
    "    # let it settle, encoder requires this\n",
    "    time.sleep(0.1)\n",
    "    # Enable the modulator\n",
    "    GPIO.output (22, True)\n",
    "    # keep enabled for a period\n",
    "    time.sleep(0.25)\n",
    "    # Disable the modulator\n",
    "    GPIO.output (22, False)\n",
    "#     GPIO.cleanup()"
   ]
  },
  {
   "cell_type": "code",
   "execution_count": 56,
   "metadata": {},
   "outputs": [
    {
     "name": "stdout",
     "output_type": "stream",
     "text": [
      "turning on radiator\n"
     ]
    }
   ],
   "source": [
    "# wireless_ini()\n",
    "wireless_one()\n"
   ]
  },
  {
   "cell_type": "code",
   "execution_count": 32,
   "metadata": {},
   "outputs": [],
   "source": [
    "temp_loc = '/sys/bus/w1/devices/'\n",
    "device = '28-0213924576ef/'"
   ]
  },
  {
   "cell_type": "code",
   "execution_count": 51,
   "metadata": {},
   "outputs": [],
   "source": [
    "def temp_ini():\n",
    "    GPIO.cleanup()\n",
    "    GPIO.setmode(GPIO.BOARD)\n",
    "    GPIO.setup(40, GPIO.OUT) #21 BCM\n",
    "    GPIO.output(40,1)\n",
    "\n",
    "    os.system('modprobe w1-gpio')\n",
    "    os.system('modprobe w1-therm')\n",
    "\n",
    "#     temp_loc = '/sys/bus/w1/devices/'\n",
    "    #########\n",
    "#     os.chdir(temp_loc)\n",
    "#     print(os.listdir())\n",
    "##############\n",
    "#     device = '28-0213924576ef/'\n",
    "#     os.chdir(temp_loc+device)\n",
    "#     print(os.getcwd())\n",
    "    \n",
    "temp_ini()    "
   ]
  },
  {
   "cell_type": "code",
   "execution_count": 52,
   "metadata": {},
   "outputs": [],
   "source": [
    "def temp_raw():\n",
    "    temp_sensor = temp_loc+device+'w1_slave'\n",
    "    f=open(temp_sensor,'r')\n",
    "    lines = f.readlines()\n",
    "    f.close()\n",
    "    return lines\n",
    "\n",
    "def read_temp():\n",
    "#     temp_ini()\n",
    "    lines=temp_raw()\n",
    "    while lines[0].strip()[-3:]!='YES':\n",
    "        time.sleep(0.1)\n",
    "        try:\n",
    "            lines = temp_raw()\n",
    "        except:\n",
    "            print('temp read fail')\n",
    "    temp_output = lines[1].find('t=')\n",
    "    if temp_output != -1:\n",
    "        temp_string = lines[1].strip()[temp_output+2:]\n",
    "        temp_c = float(temp_string)/1000.0\n",
    "        return temp_c\n",
    "    "
   ]
  },
  {
   "cell_type": "code",
   "execution_count": 21,
   "metadata": {},
   "outputs": [],
   "source": [
    "# temp_ini()\n",
    "# read_temp()"
   ]
  },
  {
   "cell_type": "code",
   "execution_count": 22,
   "metadata": {},
   "outputs": [],
   "source": [
    "# temps = []\n",
    "# trigger_block = False\n",
    "# block_time = datetime.datetime.now().time() #ini\n",
    "# t = datetime.datetime.now().time()\n",
    "# print('entering loop')\n",
    "# while True:\n",
    "#     t = datetime.datetime.now().time()\n",
    "#     curr = read_temp()\n",
    "#     print(t, curr)\n",
    "#     temps = temps + [(t,curr)]\n",
    "    \n",
    "#     if (curr <= 17.0)  & (t.hour < 9) & (trigger_block == False):\n",
    "#         trigger_block = True  \n",
    "#         wireless_ini()\n",
    "#         wireless_one()\n",
    "#     elif (curr>17.5)& (trigger_block == True):\n",
    "#         wireless_ini()\n",
    "#         wireless_one_off()\n",
    "#         trigger_block = False\n",
    "    \n",
    "#     time.sleep(60)"
   ]
  },
  {
   "cell_type": "code",
   "execution_count": 27,
   "metadata": {},
   "outputs": [],
   "source": [
    "temps = []"
   ]
  },
  {
   "cell_type": "code",
   "execution_count": 29,
   "metadata": {},
   "outputs": [],
   "source": [
    "temps = temps + [1]"
   ]
  },
  {
   "cell_type": "code",
   "execution_count": 67,
   "metadata": {},
   "outputs": [],
   "source": [
    "import matplotlib.pyplot as plt "
   ]
  },
  {
   "cell_type": "code",
   "execution_count": 116,
   "metadata": {},
   "outputs": [],
   "source": [
    "te = [i[1] for i in temps]"
   ]
  },
  {
   "cell_type": "code",
   "execution_count": 72,
   "metadata": {},
   "outputs": [],
   "source": [
    "ti = [i[0] for i in temps]"
   ]
  },
  {
   "cell_type": "code",
   "execution_count": 76,
   "metadata": {},
   "outputs": [],
   "source": [
    "import matplotlib.dates as dates"
   ]
  },
  {
   "cell_type": "code",
   "execution_count": 92,
   "metadata": {},
   "outputs": [],
   "source": [
    "my_day = datetime.date(2019, 1, 5)\n",
    "x_dt = [ dates.date2num(datetime.datetime.combine(my_day, t)) for t in ti ]"
   ]
  },
  {
   "cell_type": "code",
   "execution_count": 23,
   "metadata": {},
   "outputs": [],
   "source": [
    "# plt.plot(te)\n",
    "# plt.annotate('17.0 heater activation',xy = (120,17), xytext = (100, 16.8),arrowprops=dict(facecolor='black', shrink=0.05))\n",
    "# plt.annotate('17.5 heater cutt-off',xy = (370,17.5), xytext = (400, 17.65),arrowprops=dict(facecolor='black', shrink=0.05))\n",
    "# plt.annotate('9am heater cutt-off',xy = (448,17.0), xytext = (350, 16.65),arrowprops=dict(facecolor='black', shrink=0.05))\n",
    "# plt.xlim(0,600)\n",
    "# plt.show()"
   ]
  },
  {
   "cell_type": "code",
   "execution_count": 24,
   "metadata": {},
   "outputs": [],
   "source": [
    "# plt.plot(x_dt, te)\n",
    "# plt.gcf().autofmt_xdate()\n",
    "# plt.show()"
   ]
  },
  {
   "cell_type": "code",
   "execution_count": 25,
   "metadata": {},
   "outputs": [],
   "source": [
    "# !sudo touch 190104to05temp_data.pkl\n",
    "\n",
    "# pickle.dump(temps,open('190104to05temp_data.pkl', 'wb'))"
   ]
  },
  {
   "cell_type": "code",
   "execution_count": 6,
   "metadata": {},
   "outputs": [],
   "source": [
    "from flask import Flask\n",
    "from flask_ask import Ask, statement, convert_errors\n",
    "import RPi.GPIO as GPIO\n",
    "import logging\n",
    "import serial\n",
    "import time"
   ]
  },
  {
   "cell_type": "code",
   "execution_count": 26,
   "metadata": {},
   "outputs": [],
   "source": [
    "# app = Flask(__name__)\n",
    "\n",
    "# ask = Ask(app, '/')\n",
    "\n",
    "# logging.getLogger(\"flask_ask\").setLevel(logging.DEBUG)\n",
    "\n",
    "# @ask.intent('temperature')\n",
    "\n",
    "# def temperature():\n",
    "#     x = 20\n",
    "# #   x = 'The temperature is %d'%read_temp()\n",
    "\n",
    "#     return statement(x)\n",
    "\n",
    "\n",
    "# app.run(host='0.0.0.0', port=8080, debug=True)"
   ]
  },
  {
   "cell_type": "code",
   "execution_count": 48,
   "metadata": {},
   "outputs": [],
   "source": [
    "def web_page(im_tag): \n",
    "    page= \"\"\"\n",
    "\n",
    "    <html>\n",
    "    <head>\n",
    "    <style>\n",
    "    body {\n",
    "            color: red;\n",
    "    }\n",
    "    </style>\n",
    "    <body bgcolor=\"#000000\">\n",
    "        <head>\n",
    "            <title>Temperature Plot</title>\n",
    "        </head>\n",
    "        <body>\n",
    "            <h1>\"\"\"+ str_format()+\"\"\" </h1> \n",
    "            \"\"\" + im_tag + \"\"\"\n",
    "            \n",
    "        </body>\n",
    "    </html>\n",
    "\n",
    "\n",
    "    \"\"\"\n",
    "    return page"
   ]
  },
  {
   "cell_type": "code",
   "execution_count": 49,
   "metadata": {},
   "outputs": [],
   "source": [
    "def str_format():\n",
    "    t = datetime.datetime.now().time()\n",
    "    return \"The time is %d:%d and the temperature is...  %d degrees\"%(t.hour, t.minute, read_temp())"
   ]
  },
  {
   "cell_type": "code",
   "execution_count": 50,
   "metadata": {},
   "outputs": [
    {
     "name": "stderr",
     "output_type": "stream",
     "text": [
      " * Running on http://0.0.0.0:8080/ (Press CTRL+C to quit)\n",
      "192.168.1.24 - - [27/Jan/2019 23:51:13] \"GET / HTTP/1.1\" 200 -\n"
     ]
    }
   ],
   "source": [
    "from flask import Flask\n",
    "app = Flask(__name__)\n",
    "\n",
    "@app.route('/')\n",
    "def hello_world():\n",
    "    data_uri = base64.b64encode(open('graph.png', 'rb').read()).decode('utf-8').replace('\\n', '')\n",
    "    img_tag = '<img src=\"data:image/png;base64,{0}\">'.format(data_uri)\n",
    "    return web_page(img_tag) #str_format()\n",
    "\n",
    "app.run(host='0.0.0.0', port=8080)"
   ]
  },
  {
   "cell_type": "code",
   "execution_count": 27,
   "metadata": {},
   "outputs": [],
   "source": [
    "# plt.plot([1,2,3], [2,3,3])\n",
    "# plt.savefig('graph.png')"
   ]
  },
  {
   "cell_type": "code",
   "execution_count": 22,
   "metadata": {},
   "outputs": [],
   "source": []
  },
  {
   "cell_type": "code",
   "execution_count": 7,
   "metadata": {},
   "outputs": [],
   "source": [
    "exposed_page = \"\"\"\n",
    "<html><head>\n",
    "\n",
    "\n",
    "<!-- Load require.js. Delete this if your page already loads require.js -->\n",
    "<script src=\"https://cdnjs.cloudflare.com/ajax/libs/require.js/2.3.4/require.min.js\" integrity=\"sha256-Ae2Vz/4ePdIu6ZyI/5ZGsYnb+m0JlOmKPjt6XZ9JJkA=\" crossorigin=\"anonymous\"></script>\n",
    "<script src=\"https://unpkg.com/@jupyter-widgets/html-manager@*/dist/embed-amd.js\" crossorigin=\"anonymous\"></script>\n",
    "<script type=\"application/vnd.jupyter.widget-state+json\">\n",
    "{\n",
    "    \"version_major\": 2,\n",
    "    \"version_minor\": 0,\n",
    "    \"state\": {\n",
    "        \"762b489fb1574f1dac36ebb17cbd7ef6\": {\n",
    "            \"model_name\": \"LayoutModel\",\n",
    "            \"model_module\": \"@jupyter-widgets/base\",\n",
    "            \"model_module_version\": \"1.1.0\",\n",
    "            \"state\": {}\n",
    "        },\n",
    "        \"413580ba7d2649ba9520725ded2d7b8a\": {\n",
    "            \"model_name\": \"ButtonStyleModel\",\n",
    "            \"model_module\": \"@jupyter-widgets/controls\",\n",
    "            \"model_module_version\": \"1.4.0\",\n",
    "            \"state\": {}\n",
    "        },\n",
    "        \"cff2c1b5d4ee490eae5e4fa758345d22\": {\n",
    "            \"model_name\": \"ButtonModel\",\n",
    "            \"model_module\": \"@jupyter-widgets/controls\",\n",
    "            \"model_module_version\": \"1.4.0\",\n",
    "            \"state\": {\n",
    "                \"style\": \"IPY_MODEL_413580ba7d2649ba9520725ded2d7b8a\",\n",
    "                \"description\": \"Off\",\n",
    "                \"layout\": \"IPY_MODEL_762b489fb1574f1dac36ebb17cbd7ef6\"\n",
    "            }\n",
    "        },\n",
    "        \"29c4bc6d5328415881125d2a4815eae6\": {\n",
    "            \"model_name\": \"LayoutModel\",\n",
    "            \"model_module\": \"@jupyter-widgets/base\",\n",
    "            \"model_module_version\": \"1.1.0\",\n",
    "            \"state\": {}\n",
    "        },\n",
    "        \"271431dd902742a288396c08c5b5108b\": {\n",
    "            \"model_name\": \"ButtonStyleModel\",\n",
    "            \"model_module\": \"@jupyter-widgets/controls\",\n",
    "            \"model_module_version\": \"1.4.0\",\n",
    "            \"state\": {}\n",
    "        },\n",
    "        \"c0e3eb3812114a25b7260182b618ee18\": {\n",
    "            \"model_name\": \"ButtonModel\",\n",
    "            \"model_module\": \"@jupyter-widgets/controls\",\n",
    "            \"model_module_version\": \"1.4.0\",\n",
    "            \"state\": {\n",
    "                \"style\": \"IPY_MODEL_271431dd902742a288396c08c5b5108b\",\n",
    "                \"description\": \"On\",\n",
    "                \"layout\": \"IPY_MODEL_29c4bc6d5328415881125d2a4815eae6\"\n",
    "            }\n",
    "        }\n",
    "    }\n",
    "}\n",
    "</script>\n",
    "</head>\n",
    "<body>\n",
    "\n",
    "<script type=\"application/vnd.jupyter.widget-view+json\">\n",
    "{\n",
    "    \"version_major\": 2,\n",
    "    \"version_minor\": 0,\n",
    "    \"model_id\": \"cff2c1b5d4ee490eae5e4fa758345d22\"\n",
    "}\n",
    "</script>\n",
    "\n",
    "<script type=\"application/vnd.jupyter.widget-view+json\">\n",
    "{\n",
    "    \"version_major\": 2,\n",
    "    \"version_minor\": 0,\n",
    "    \"model_id\": \"c0e3eb3812114a25b7260182b618ee18\"\n",
    "}\n",
    "</script>\n",
    "\n",
    "</body>\n",
    "</html>\n",
    "\"\"\""
   ]
  },
  {
   "cell_type": "code",
   "execution_count": 28,
   "metadata": {},
   "outputs": [],
   "source": [
    "# from flask import Flask\n",
    "# app = Flask(__name__)\n",
    "\n",
    "# @app.route('/')\n",
    "# def hello_world():\n",
    "\n",
    "#     return exposed_page\n",
    "\n",
    "# app.run(host='0.0.0.0', port=8070)"
   ]
  },
  {
   "cell_type": "code",
   "execution_count": null,
   "metadata": {},
   "outputs": [],
   "source": []
  }
 ],
 "metadata": {
  "kernelspec": {
   "display_name": "Python 3",
   "language": "python",
   "name": "python3"
  },
  "language_info": {
   "codemirror_mode": {
    "name": "ipython",
    "version": 3
   },
   "file_extension": ".py",
   "mimetype": "text/x-python",
   "name": "python",
   "nbconvert_exporter": "python",
   "pygments_lexer": "ipython3",
   "version": "3.5.3"
  },
  "varInspector": {
   "cols": {
    "lenName": 16,
    "lenType": 16,
    "lenVar": 40
   },
   "kernels_config": {
    "python": {
     "delete_cmd_postfix": "",
     "delete_cmd_prefix": "del ",
     "library": "var_list.py",
     "varRefreshCmd": "print(var_dic_list())"
    },
    "r": {
     "delete_cmd_postfix": ") ",
     "delete_cmd_prefix": "rm(",
     "library": "var_list.r",
     "varRefreshCmd": "cat(var_dic_list()) "
    }
   },
   "types_to_exclude": [
    "module",
    "function",
    "builtin_function_or_method",
    "instance",
    "_Feature"
   ],
   "window_display": false
  }
 },
 "nbformat": 4,
 "nbformat_minor": 2
}
